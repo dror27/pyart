{
 "cells": [
  {
   "cell_type": "code",
   "execution_count": 1,
   "id": "0ce79579-4399-489a-8c5f-ab569f189f0b",
   "metadata": {},
   "outputs": [],
   "source": [
    "# http://ajaxsoundstudio.com/software/pyo/"
   ]
  },
  {
   "cell_type": "code",
   "execution_count": 2,
   "id": "f83ea97b-1011-453f-bd8f-964535e4ab14",
   "metadata": {},
   "outputs": [
    {
     "data": {
      "text/plain": [
       "<pyo.lib.server.Server at 0x7fd981076110>"
      ]
     },
     "execution_count": 2,
     "metadata": {},
     "output_type": "execute_result"
    }
   ],
   "source": [
    "from pyo import *\n",
    "s = Server().boot()\n",
    "s.start()"
   ]
  },
  {
   "cell_type": "code",
   "execution_count": 3,
   "id": "41f274ad-c0c8-4d59-9486-daa5addbf1e8",
   "metadata": {},
   "outputs": [],
   "source": [
    "wav = SquareTable()\n",
    "env = CosTable([(0,0), (100,1), (500,.3), (8191,0)])\n",
    "met = Metro(.125, 12).play()\n",
    "amp = TrigEnv(met, table=env, dur=1, mul=.1)\n",
    "pit = TrigXnoiseMidi(met, dist='loopseg', x1=20, scale=1, mrange=(48,84))\n",
    "out = Osc(table=wav, freq=pit, mul=amp).out()"
   ]
  },
  {
   "cell_type": "code",
   "execution_count": 4,
   "id": "f7adabc0-2780-4f24-9779-715a23e4fbff",
   "metadata": {},
   "outputs": [],
   "source": [
    "s.stop()"
   ]
  },
  {
   "cell_type": "code",
   "execution_count": null,
   "id": "43573e27-755a-40e1-a9fb-07981565ef5b",
   "metadata": {},
   "outputs": [],
   "source": []
  }
 ],
 "metadata": {
  "kernelspec": {
   "display_name": "Python 3",
   "language": "python",
   "name": "python3"
  },
  "language_info": {
   "codemirror_mode": {
    "name": "ipython",
    "version": 3
   },
   "file_extension": ".py",
   "mimetype": "text/x-python",
   "name": "python",
   "nbconvert_exporter": "python",
   "pygments_lexer": "ipython3",
   "version": "3.7.6"
  }
 },
 "nbformat": 4,
 "nbformat_minor": 5
}
