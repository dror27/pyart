{
 "cells": [
  {
   "cell_type": "code",
   "execution_count": 1,
   "id": "0ce79579-4399-489a-8c5f-ab569f189f0b",
   "metadata": {},
   "outputs": [],
   "source": [
    "# http://ajaxsoundstudio.com/software/pyo/"
   ]
  },
  {
   "cell_type": "code",
   "execution_count": 10,
   "id": "f83ea97b-1011-453f-bd8f-964535e4ab14",
   "metadata": {},
   "outputs": [
    {
     "data": {
      "text/plain": [
       "<pyo.lib.server.Server at 0x7fc382c5db90>"
      ]
     },
     "execution_count": 10,
     "metadata": {},
     "output_type": "execute_result"
    }
   ],
   "source": [
    "from pyo import *\n",
    "s = Server().boot()\n",
    "s.start()"
   ]
  },
  {
   "cell_type": "code",
   "execution_count": 11,
   "id": "41f274ad-c0c8-4d59-9486-daa5addbf1e8",
   "metadata": {},
   "outputs": [],
   "source": [
    "# sound from https://freesound.org/\n",
    "sf = SfPlayer(\"202029__hykenfreak__notification-chime.wav\", speed=1, loop=True).out()"
   ]
  },
  {
   "cell_type": "code",
   "execution_count": 12,
   "id": "f7adabc0-2780-4f24-9779-715a23e4fbff",
   "metadata": {},
   "outputs": [],
   "source": [
    "s.stop()"
   ]
  }
 ],
 "metadata": {
  "kernelspec": {
   "display_name": "Python 3",
   "language": "python",
   "name": "python3"
  },
  "language_info": {
   "codemirror_mode": {
    "name": "ipython",
    "version": 3
   },
   "file_extension": ".py",
   "mimetype": "text/x-python",
   "name": "python",
   "nbconvert_exporter": "python",
   "pygments_lexer": "ipython3",
   "version": "3.7.6"
  }
 },
 "nbformat": 4,
 "nbformat_minor": 5
}
