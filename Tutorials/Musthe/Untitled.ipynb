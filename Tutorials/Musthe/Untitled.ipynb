{
 "cells": [
  {
   "cell_type": "code",
   "execution_count": 1,
   "id": "7c9e6452-649d-44c0-b075-f1646d31678e",
   "metadata": {},
   "outputs": [],
   "source": [
    "# https://github.com/gciruelos/musthe"
   ]
  },
  {
   "cell_type": "code",
   "execution_count": 2,
   "id": "5a792d8b-9100-4879-a60f-f7c4e95305d9",
   "metadata": {},
   "outputs": [],
   "source": [
    "from musthe import *"
   ]
  },
  {
   "cell_type": "code",
   "execution_count": 8,
   "id": "2fe8d25c-cc28-44f3-9fe2-bb066681996d",
   "metadata": {},
   "outputs": [
    {
     "data": {
      "text/plain": [
       "[Note('C4'),\n",
       " Note('D4'),\n",
       " Note('E4'),\n",
       " Note('F4'),\n",
       " Note('G4'),\n",
       " Note('A4'),\n",
       " Note('B4')]"
      ]
     },
     "execution_count": 8,
     "metadata": {},
     "output_type": "execute_result"
    }
   ],
   "source": [
    "s = Scale(Note('C'), 'major')\n",
    "[s[i] for i in range(len(s))]"
   ]
  },
  {
   "cell_type": "code",
   "execution_count": 18,
   "id": "807a4985-140e-42d4-83e3-4343f2a8d300",
   "metadata": {},
   "outputs": [
    {
     "data": {
      "text/plain": [
       "[Note('A4'), Note('C5'), Note('D5'), Note('E5'), Note('G5')]"
      ]
     },
     "execution_count": 18,
     "metadata": {},
     "output_type": "execute_result"
    }
   ],
   "source": [
    "s = Scale(Note('A'), 'minor_pentatonic')\n",
    "[s[i] for i in range(len(s))]"
   ]
  },
  {
   "cell_type": "code",
   "execution_count": 28,
   "id": "5a801a37-1714-4878-a6dc-19a796da68e3",
   "metadata": {},
   "outputs": [
    {
     "data": {
      "text/plain": [
       "110.0"
      ]
     },
     "execution_count": 28,
     "metadata": {},
     "output_type": "execute_result"
    }
   ],
   "source": [
    "Note('A2').frequency()"
   ]
  },
  {
   "cell_type": "code",
   "execution_count": 35,
   "id": "69fd4235-e0d1-4401-8ec9-a0f4a9adf00d",
   "metadata": {},
   "outputs": [
    {
     "data": {
      "text/plain": [
       "Note('A5')"
      ]
     },
     "execution_count": 35,
     "metadata": {},
     "output_type": "execute_result"
    }
   ],
   "source": [
    "Note('A4') + Interval('P8')"
   ]
  },
  {
   "cell_type": "code",
   "execution_count": 42,
   "id": "b6a2b3c3-d293-4dec-ab42-20017a8a1e07",
   "metadata": {},
   "outputs": [
    {
     "data": {
      "text/plain": [
       "[440.0,\n",
       " 523.2511306011972,\n",
       " 587.3295358348151,\n",
       " 659.2551138257398,\n",
       " 783.9908719634985,\n",
       " 880.0,\n",
       " 1046.5022612023945,\n",
       " 1174.6590716696303,\n",
       " 1318.5102276514797,\n",
       " 1567.981743926997,\n",
       " 1760.0]"
      ]
     },
     "execution_count": 42,
     "metadata": {},
     "output_type": "execute_result"
    }
   ],
   "source": [
    "def multi_octave_scale(note, name, octaves):\n",
    "    if octaves == 0:\n",
    "        return [note]\n",
    "    else:\n",
    "        s = Scale(note, name)\n",
    "        return [s[i] for i in range(len(s))] + multi_octave_scale(note + Interval('P8'), name, octaves - 1)\n",
    "    \n",
    "[note.frequency() for note in multi_octave_scale(Note('A4'), 'minor_pentatonic', 2)]"
   ]
  },
  {
   "cell_type": "code",
   "execution_count": 45,
   "id": "a374eab4-7732-492d-b3a4-92688556f9b2",
   "metadata": {},
   "outputs": [
    {
     "data": {
      "text/plain": [
       "['__add__',\n",
       " '__class__',\n",
       " '__delattr__',\n",
       " '__dict__',\n",
       " '__dir__',\n",
       " '__doc__',\n",
       " '__eq__',\n",
       " '__format__',\n",
       " '__ge__',\n",
       " '__getattribute__',\n",
       " '__gt__',\n",
       " '__hash__',\n",
       " '__init__',\n",
       " '__init_subclass__',\n",
       " '__le__',\n",
       " '__lt__',\n",
       " '__module__',\n",
       " '__ne__',\n",
       " '__new__',\n",
       " '__reduce__',\n",
       " '__reduce_ex__',\n",
       " '__repr__',\n",
       " '__setattr__',\n",
       " '__sizeof__',\n",
       " '__str__',\n",
       " '__sub__',\n",
       " '__subclasshook__',\n",
       " '__weakref__',\n",
       " 'accidental',\n",
       " 'accidental_str',\n",
       " 'accidental_value',\n",
       " 'all',\n",
       " 'frequency',\n",
       " 'letter',\n",
       " 'lilypond_notation',\n",
       " 'midi_note',\n",
       " 'number',\n",
       " 'octave',\n",
       " 'pattern',\n",
       " 'scientific_notation',\n",
       " 'to_octave']"
      ]
     },
     "execution_count": 45,
     "metadata": {},
     "output_type": "execute_result"
    }
   ],
   "source": [
    "dir(Note('A5'))"
   ]
  },
  {
   "cell_type": "code",
   "execution_count": 61,
   "id": "21fe3be0-722f-4142-b34a-309478b26b02",
   "metadata": {},
   "outputs": [
    {
     "data": {
      "text/plain": [
       "'A5'"
      ]
     },
     "execution_count": 61,
     "metadata": {},
     "output_type": "execute_result"
    }
   ],
   "source": [
    "str(Note('A5').letter) + str(Note('A5').octave)"
   ]
  },
  {
   "cell_type": "code",
   "execution_count": 64,
   "id": "87fa65be-ee3c-44c9-9de8-736e306f5884",
   "metadata": {},
   "outputs": [
    {
     "data": {
      "text/plain": [
       "'A7'"
      ]
     },
     "execution_count": 64,
     "metadata": {},
     "output_type": "execute_result"
    }
   ],
   "source": [
    "Note('A7').scientific_notation()"
   ]
  },
  {
   "cell_type": "code",
   "execution_count": 72,
   "id": "48dfe1b1-f201-4c2f-b7da-83c188fe60ce",
   "metadata": {},
   "outputs": [
    {
     "data": {
      "text/plain": [
       "['major',\n",
       " 'natural_minor',\n",
       " 'harmonic_minor',\n",
       " 'melodic_minor',\n",
       " 'major_pentatonic',\n",
       " 'minor_pentatonic',\n",
       " 'ionian',\n",
       " 'dorian',\n",
       " 'phrygian',\n",
       " 'lydian',\n",
       " 'mixolydian',\n",
       " 'aeolian',\n",
       " 'locrian']"
      ]
     },
     "execution_count": 72,
     "metadata": {},
     "output_type": "execute_result"
    }
   ],
   "source": [
    "list(dict.fromkeys([s.name for s in Scale.all(include_greek_modes=True)]))"
   ]
  },
  {
   "cell_type": "code",
   "execution_count": null,
   "id": "afd8da53-3b90-4264-8270-5b81970a80f5",
   "metadata": {},
   "outputs": [],
   "source": []
  }
 ],
 "metadata": {
  "kernelspec": {
   "display_name": "Python 3",
   "language": "python",
   "name": "python3"
  },
  "language_info": {
   "codemirror_mode": {
    "name": "ipython",
    "version": 3
   },
   "file_extension": ".py",
   "mimetype": "text/x-python",
   "name": "python",
   "nbconvert_exporter": "python",
   "pygments_lexer": "ipython3",
   "version": "3.7.6"
  }
 },
 "nbformat": 4,
 "nbformat_minor": 5
}
