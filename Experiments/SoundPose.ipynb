{
 "cells": [
  {
   "cell_type": "code",
   "execution_count": null,
   "id": "af6e6bc9-fd04-4dfd-8731-b618ab299e6e",
   "metadata": {},
   "outputs": [],
   "source": [
    "# make sounds with you body"
   ]
  },
  {
   "cell_type": "code",
   "execution_count": null,
   "id": "95883add-cf10-45b0-9f03-8c049a87fa57",
   "metadata": {},
   "outputs": [],
   "source": [
    "# generate note frequencies\n",
    "all_notes = []\n",
    "for i in range(12 + 13):\n",
    "    f = 110 * (2 ** (i/12))\n",
    "    all_notes.append(f)\n",
    "print(all_notes)"
   ]
  },
  {
   "cell_type": "code",
   "execution_count": null,
   "id": "a050805f-6927-4c6b-bdb2-5ae2d58245a1",
   "metadata": {},
   "outputs": [],
   "source": [
    "notes = [all_notes[i] for i in [0, 3, 5, 7, 10, 12, 15, 17, 19, 22, 24]]"
   ]
  },
  {
   "cell_type": "code",
   "execution_count": null,
   "id": "6b15c335-71a8-4fa1-99d8-b848a9450a8f",
   "metadata": {},
   "outputs": [],
   "source": [
    "from pyo import *\n",
    "\n",
    "\n",
    "s = Server().boot()\n",
    "s.start()\n",
    "t = CosTable([(0,0), (100,1), (500,.3), (8191,0)])\n",
    "beat = Beat(time=.100, taps=16, w1=[90,80], w2=50, w3=35, poly=1).play()\n",
    "tr2 = TrigEnv(beat, table=t, dur=beat['dur'], mul=beat['amp'])\n",
    "\n",
    "lfo4 = Sine(0.1).range(0.1, 0.75)\n",
    "osc4 = SuperSaw(freq=notes[0], detune=lfo4, mul=tr2*0.3).out(1)\n",
    "lfo5 = Sine(0.1888).range(0.1, 0.75)\n",
    "osc5 = SuperSaw(freq=notes[5], detune=lfo5, mul=tr2*0.3).out(2)\n",
    "\n"
   ]
  },
  {
   "cell_type": "code",
   "execution_count": null,
   "id": "2ff94f6a-366c-492e-9cca-3b0176ae21d6",
   "metadata": {},
   "outputs": [],
   "source": [
    "#s.stop()"
   ]
  },
  {
   "cell_type": "code",
   "execution_count": null,
   "id": "a4a9cd61-bd8d-4744-b1d0-648e1d6c0d2d",
   "metadata": {},
   "outputs": [],
   "source": [
    "sf = SfPlayer(\"kick-02.wav\", speed=1, loop=True, mul=0.5).out()"
   ]
  },
  {
   "cell_type": "code",
   "execution_count": null,
   "id": "f1b0b3b5-6fe1-4a84-b4fe-8e50637bf467",
   "metadata": {},
   "outputs": [],
   "source": [
    "def y_freq(y):\n",
    "    y = min(1.0, max(0.0, y))\n",
    "    return notes[int((1 - y) * (len(notes) - 1))]\n",
    "\n",
    "def process_landmark(y1, y2, x1, x2):\n",
    "    osc4.setFreq(y_freq(y1))\n",
    "    osc5.setFreq(y_freq(y2)*2)\n",
    "    "
   ]
  },
  {
   "cell_type": "code",
   "execution_count": null,
   "id": "d43512c9-7b62-4883-af28-3a8c20ebe149",
   "metadata": {},
   "outputs": [],
   "source": [
    "import cv2\n",
    "import mediapipe as mp\n",
    "mp_drawing = mp.solutions.drawing_utils\n",
    "mp_drawing_styles = mp.solutions.drawing_styles\n",
    "mp_pose = mp.solutions.pose\n",
    "\n",
    "# For webcam input:\n",
    "cap = cv2.VideoCapture(0)\n",
    "with mp_pose.Pose(\n",
    "    min_detection_confidence=0.5,\n",
    "    min_tracking_confidence=0.5) as pose:\n",
    "  while cap.isOpened():\n",
    "    success, image = cap.read()\n",
    "    if not success:\n",
    "      print(\"Ignoring empty camera frame.\")\n",
    "      # If loading a video, use 'break' instead of 'continue'.\n",
    "      continue\n",
    "\n",
    "    # To improve performance, optionally mark the image as not writeable to\n",
    "    # pass by reference.\n",
    "    image.flags.writeable = False\n",
    "    image = cv2.cvtColor(image, cv2.COLOR_BGR2RGB)\n",
    "    results = pose.process(image)\n",
    "\n",
    "    # process landmarks\n",
    "    if results.pose_landmarks:\n",
    "        process_landmark(results.pose_landmarks.landmark[19].y, \n",
    "                         results.pose_landmarks.landmark[20].y,\n",
    "                         results.pose_landmarks.landmark[19].x, \n",
    "                         results.pose_landmarks.landmark[20].x,)\n",
    "    \n",
    "    # Draw the pose annotation on the image.\n",
    "    image.flags.writeable = True\n",
    "    image = cv2.cvtColor(image, cv2.COLOR_RGB2BGR)\n",
    "    mp_drawing.draw_landmarks(\n",
    "        image,\n",
    "        results.pose_landmarks,\n",
    "        mp_pose.POSE_CONNECTIONS,\n",
    "        landmark_drawing_spec=mp_drawing_styles.get_default_pose_landmarks_style())\n",
    "    # Flip the image horizontally for a selfie-view display.\n",
    "    cv2.imshow('MediaPipe Pose', cv2.flip(image, 1))\n",
    "    if cv2.waitKey(5) & 0xFF == 27:\n",
    "      break\n",
    "cap.release()"
   ]
  },
  {
   "cell_type": "code",
   "execution_count": null,
   "id": "f23c5856-2760-4856-b164-4290a6344d89",
   "metadata": {},
   "outputs": [],
   "source": [
    "s.stop()"
   ]
  },
  {
   "cell_type": "code",
   "execution_count": null,
   "id": "b85cd24b-044a-4838-a342-2dcd8fec592d",
   "metadata": {},
   "outputs": [],
   "source": []
  }
 ],
 "metadata": {
  "kernelspec": {
   "display_name": "Python 3",
   "language": "python",
   "name": "python3"
  },
  "language_info": {
   "codemirror_mode": {
    "name": "ipython",
    "version": 3
   },
   "file_extension": ".py",
   "mimetype": "text/x-python",
   "name": "python",
   "nbconvert_exporter": "python",
   "pygments_lexer": "ipython3",
   "version": "3.7.6"
  }
 },
 "nbformat": 4,
 "nbformat_minor": 5
}
