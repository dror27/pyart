{
 "cells": [
  {
   "cell_type": "code",
   "execution_count": 3,
   "id": "d6b02b85-5126-466d-8cd9-0c77d9b6bc8a",
   "metadata": {},
   "outputs": [],
   "source": [
    "from pyo import *"
   ]
  },
  {
   "cell_type": "code",
   "execution_count": 29,
   "id": "10b4d9ee-2462-4ff0-b8e5-fdade313640c",
   "metadata": {},
   "outputs": [],
   "source": [
    "b = 500\n",
    "\n",
    "s = Server().boot()\n",
    "s.amp = 0.1\n",
    "a = Sine(freq=b).out()\n"
   ]
  },
  {
   "cell_type": "code",
   "execution_count": 30,
   "id": "31dd5c69-958c-4283-a616-991500ba1e57",
   "metadata": {},
   "outputs": [
    {
     "data": {
      "text/plain": [
       "<pyo.lib.server.Server at 0x7fc2b0d6bd10>"
      ]
     },
     "execution_count": 30,
     "metadata": {},
     "output_type": "execute_result"
    }
   ],
   "source": [
    "s.start()"
   ]
  },
  {
   "cell_type": "code",
   "execution_count": 5,
   "id": "97c0be82-386e-4bc6-8c27-c49821d74afd",
   "metadata": {},
   "outputs": [],
   "source": [
    "s.stop()"
   ]
  },
  {
   "cell_type": "code",
   "execution_count": 32,
   "id": "f71c0aed-eaf6-4389-b8b8-df07b488a87f",
   "metadata": {},
   "outputs": [],
   "source": [
    "a.setFreq(1000)"
   ]
  },
  {
   "cell_type": "code",
   "execution_count": 1,
   "id": "6f18a26f-72d3-45d2-b44e-2bb0ba90b6de",
   "metadata": {},
   "outputs": [
    {
     "data": {
      "text/plain": [
       "<pyo.lib.server.Server at 0x7fb59507af50>"
      ]
     },
     "execution_count": 1,
     "metadata": {},
     "output_type": "execute_result"
    }
   ],
   "source": [
    "from pyo import *\n",
    "\n",
    "s = Server().boot()\n",
    "\n",
    "# Sets fundamental frequency.\n",
    "freq = 187.5\n",
    "\n",
    "# Impulse train generator.\n",
    "lfo1 = Sine(0.1).range(1, 50)\n",
    "osc1 = Blit(freq=freq, harms=lfo1, mul=0.3)\n",
    "\n",
    "# RC circuit.\n",
    "lfo2 = Sine(0.1, mul=0.5, add=0.5)\n",
    "osc2 = RCOsc(freq=freq, sharp=lfo2, mul=0.3)\n",
    "\n",
    "# Sine wave oscillator with feedback.\n",
    "lfo3 = Sine(0.1).range(0, 0.18)\n",
    "osc3 = SineLoop(freq=freq, feedback=lfo3, mul=0.3)\n",
    "\n",
    "# Roland JP-8000 Supersaw emulator.\n",
    "lfo4 = Sine(0.1).range(0.1, 0.75)\n",
    "osc4 = SuperSaw(freq=freq, detune=lfo4, mul=0.3)\n",
    "\n",
    "# Interpolates between input objects to produce a single output\n",
    "sel = Selector([osc1, osc2, osc3, osc4]).out()\n",
    "sel.ctrl(title=\"Input interpolator (0=Blit, 1=RCOsc, 2=SineLoop, 3=SuperSaw)\")\n",
    "\n",
    "s.start()"
   ]
  },
  {
   "cell_type": "code",
   "execution_count": 3,
   "id": "fba02622-bb72-452c-b10a-bd0bd2d09f60",
   "metadata": {},
   "outputs": [],
   "source": [
    "sel.setVoice(3.0)"
   ]
  },
  {
   "cell_type": "code",
   "execution_count": 4,
   "id": "dc1dcfe0-a39b-4bc2-aa25-4858e3ded306",
   "metadata": {},
   "outputs": [],
   "source": [
    "osc4.setFreq(300)"
   ]
  },
  {
   "cell_type": "code",
   "execution_count": 6,
   "id": "00ec1683-6180-4942-9ee3-47a0b100555a",
   "metadata": {},
   "outputs": [
    {
     "name": "stdout",
     "output_type": "stream",
     "text": [
      "Pyo warning: Portmidi warning: could not open midi input 0 (Network Session 2): PortMidi: `Invalid device ID'\n",
      "Pyo warning: Portmidi warning: could not open midi output 1 (Network Session 2): PortMidi: `Invalid device ID'\n",
      "Pyo warning: Portmidi closed.\n"
     ]
    }
   ],
   "source": [
    "s = Server().boot()\n",
    "s.start()\n",
    "t = CosTable([(0,0), (50,1), (250,.3), (8191,0)])\n",
    "met = Metro(time=.125, poly=2).play()\n",
    "amp = TrigEnv(met, table=t, dur=.25, mul=.3)\n",
    "freq = TrigRand(met, min=400, max=1000)\n",
    "a = Sine(freq=freq, mul=amp).out()"
   ]
  },
  {
   "cell_type": "code",
   "execution_count": 7,
   "id": "b2de0c50-2c76-4c62-84da-587171ff17a1",
   "metadata": {},
   "outputs": [],
   "source": [
    "s.stop()"
   ]
  },
  {
   "cell_type": "code",
   "execution_count": 10,
   "id": "9f89bb6f-20e0-437f-98ac-608659935572",
   "metadata": {},
   "outputs": [
    {
     "name": "stdout",
     "output_type": "stream",
     "text": [
      "Pyo warning: Portmidi warning: no midi device found!\n",
      "Portmidi closed.\n"
     ]
    }
   ],
   "source": [
    "s = Server().boot()\n",
    "s.start()\n",
    "t = CosTable([(0,0), (100,1), (500,.3), (8191,0)])\n",
    "beat = Beat(time=.125, taps=16, w1=[90,80], w2=50, w3=35, poly=1).play()\n",
    "trmid = TrigXnoiseMidi(beat, dist=12, mrange=(60, 96))\n",
    "trhz = Snap(trmid, choice=[0,2,3,5,7,8,10], scale=1)\n",
    "tr2 = TrigEnv(beat, table=t, dur=beat['dur'], mul=beat['amp'])\n",
    "#a = Sine(freq=trhz, mul=tr2*0.3).out()\n",
    "a = Sine(freq=440, mul=tr2*0.3).out()\n"
   ]
  },
  {
   "cell_type": "code",
   "execution_count": 11,
   "id": "21b16824-0e5f-413b-97c1-dbb0a90bd1ce",
   "metadata": {},
   "outputs": [],
   "source": [
    "s.stop()"
   ]
  },
  {
   "cell_type": "code",
   "execution_count": 8,
   "id": "205f8006-3e17-43b5-89e4-70a879ab1bf3",
   "metadata": {},
   "outputs": [
    {
     "name": "stdout",
     "output_type": "stream",
     "text": [
      "Pyo warning: Portmidi warning: no midi device found!\n",
      "Portmidi closed.\n"
     ]
    },
    {
     "data": {
      "text/plain": [
       "<pyo.lib.server.Server at 0x7fcb9bb98ad0>"
      ]
     },
     "execution_count": 8,
     "metadata": {},
     "output_type": "execute_result"
    }
   ],
   "source": [
    "from pyo import *\n",
    "\n",
    "s = Server().boot()\n",
    "\n",
    "# White noise generator\n",
    "n = SuperSaw(freq=440, detune=0.5, mul=0.3)\n",
    "\n",
    "# Common cutoff frequency control\n",
    "freq = Sig(1000)\n",
    "freq.ctrl([SLMap(50, 5000, \"lin\", \"value\", 1000)], title=\"Cutoff Frequency\")\n",
    "\n",
    "# Common filter's Q control\n",
    "q = Sig(5)\n",
    "q.ctrl([SLMap(0.7, 20, \"log\", \"value\", 5)], title=\"Filter's Q\")\n",
    "\n",
    "# Second-order bandpass filter\n",
    "bp1 = Reson(n, freq, q=q)\n",
    "# Cascade of second-order bandpass filters\n",
    "bp2 = Resonx(n, freq, q=q, stages=4)\n",
    "\n",
    "# Interpolates between input objects to produce a single output\n",
    "sel = Selector([bp1, bp2]).out()\n",
    "sel.ctrl(title=\"Filter selector (0=Reson, 1=Resonx)\")\n",
    "\n",
    "s.start()\n"
   ]
  },
  {
   "cell_type": "code",
   "execution_count": 12,
   "id": "3af1e3e9-7710-41ad-9bd6-5c61ed8d362a",
   "metadata": {},
   "outputs": [],
   "source": [
    "freq.setValue(1000)"
   ]
  },
  {
   "cell_type": "code",
   "execution_count": 13,
   "id": "c7abc824-3b2a-467a-9dbf-cec7d71fa851",
   "metadata": {},
   "outputs": [],
   "source": [
    "s.stop()"
   ]
  },
  {
   "cell_type": "code",
   "execution_count": null,
   "id": "8e88557d-2405-48c6-8fef-39a5b8f9c657",
   "metadata": {},
   "outputs": [],
   "source": []
  }
 ],
 "metadata": {
  "kernelspec": {
   "display_name": "Python 3",
   "language": "python",
   "name": "python3"
  },
  "language_info": {
   "codemirror_mode": {
    "name": "ipython",
    "version": 3
   },
   "file_extension": ".py",
   "mimetype": "text/x-python",
   "name": "python",
   "nbconvert_exporter": "python",
   "pygments_lexer": "ipython3",
   "version": "3.7.6"
  }
 },
 "nbformat": 4,
 "nbformat_minor": 5
}
